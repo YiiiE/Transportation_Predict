{
 "cells": [
  {
   "cell_type": "markdown",
   "metadata": {},
   "source": [
    "# Final Projects 90-803: MLFP Spring 2023\n",
    "## Team 9\n",
    "### Question 3: Can we classify the severity of vehicle damage in accidents based on factors like speed limits, location, and lighting conditions? If so, what environmental factors have the most contribution to the result?\n",
    "Classification - target variable: DAMAGE_IND, where 0 – None, 1 – Minor (Drivable), 2 - Functional (may be undrivable), 3 – Disabling (severe )"
   ]
  },
  {
   "cell_type": "code",
   "execution_count": 1,
   "metadata": {},
   "outputs": [],
   "source": [
    "import numpy as np\n",
    "import pandas as pd\n",
    "import seaborn as sns\n",
    "import matplotlib.pyplot as plt\n",
    "%matplotlib inline\n",
    "from sklearn.model_selection import train_test_split, GridSearchCV\n",
    "from sklearn.metrics import classification_report\n",
    "from sklearn.svm import SVC\n",
    "from sklearn.ensemble import RandomForestClassifier\n",
    "from sklearn.neural_network import MLPClassifier\n",
    "from sklearn.linear_model import LogisticRegression\n",
    "from sklearn.naive_bayes import GaussianNB\n",
    "from sklearn.metrics import accuracy_score, classification_report, confusion_matrix\n",
    "from sklearn.metrics import accuracy_score, precision_score, recall_score, f1_score\n",
    "from sklearn.utils import resample\n",
    "from sklearn.preprocessing import StandardScaler\n",
    "from sklearn.metrics import accuracy_score, classification_report, confusion_matrix\n",
    "from sklearn.utils import resample\n",
    "\n",
    "\n",
    "import warnings\n",
    "warnings.filterwarnings('ignore')"
   ]
  },
  {
   "cell_type": "code",
   "execution_count": 26,
   "metadata": {},
   "outputs": [
    {
     "data": {
      "text/html": [
       "<div>\n",
       "<style scoped>\n",
       "    .dataframe tbody tr th:only-of-type {\n",
       "        vertical-align: middle;\n",
       "    }\n",
       "\n",
       "    .dataframe tbody tr th {\n",
       "        vertical-align: top;\n",
       "    }\n",
       "\n",
       "    .dataframe thead th {\n",
       "        text-align: right;\n",
       "    }\n",
       "</style>\n",
       "<table border=\"1\" class=\"dataframe\">\n",
       "  <thead>\n",
       "    <tr style=\"text-align: right;\">\n",
       "      <th></th>\n",
       "      <th>Unnamed: 0</th>\n",
       "      <th>DAMAGE_IND</th>\n",
       "      <th>URBAN</th>\n",
       "      <th>AGGRESSIVE_DRIVING</th>\n",
       "      <th>DISTRACTED</th>\n",
       "      <th>SPEED_LIMIT</th>\n",
       "      <th>ILLUMINATION</th>\n",
       "      <th>CURVED_ROAD</th>\n",
       "    </tr>\n",
       "  </thead>\n",
       "  <tbody>\n",
       "    <tr>\n",
       "      <th>0</th>\n",
       "      <td>0</td>\n",
       "      <td>3.0</td>\n",
       "      <td>0</td>\n",
       "      <td>1</td>\n",
       "      <td>0</td>\n",
       "      <td>1.575385</td>\n",
       "      <td>1</td>\n",
       "      <td>0</td>\n",
       "    </tr>\n",
       "    <tr>\n",
       "      <th>1</th>\n",
       "      <td>1</td>\n",
       "      <td>3.0</td>\n",
       "      <td>0</td>\n",
       "      <td>1</td>\n",
       "      <td>0</td>\n",
       "      <td>1.575385</td>\n",
       "      <td>1</td>\n",
       "      <td>0</td>\n",
       "    </tr>\n",
       "    <tr>\n",
       "      <th>2</th>\n",
       "      <td>2</td>\n",
       "      <td>3.0</td>\n",
       "      <td>0</td>\n",
       "      <td>1</td>\n",
       "      <td>0</td>\n",
       "      <td>1.575385</td>\n",
       "      <td>1</td>\n",
       "      <td>0</td>\n",
       "    </tr>\n",
       "    <tr>\n",
       "      <th>3</th>\n",
       "      <td>3</td>\n",
       "      <td>3.0</td>\n",
       "      <td>1</td>\n",
       "      <td>1</td>\n",
       "      <td>1</td>\n",
       "      <td>0.709924</td>\n",
       "      <td>1</td>\n",
       "      <td>0</td>\n",
       "    </tr>\n",
       "    <tr>\n",
       "      <th>4</th>\n",
       "      <td>4</td>\n",
       "      <td>3.0</td>\n",
       "      <td>1</td>\n",
       "      <td>1</td>\n",
       "      <td>1</td>\n",
       "      <td>0.709924</td>\n",
       "      <td>1</td>\n",
       "      <td>0</td>\n",
       "    </tr>\n",
       "  </tbody>\n",
       "</table>\n",
       "</div>"
      ],
      "text/plain": [
       "   Unnamed: 0  DAMAGE_IND  URBAN  AGGRESSIVE_DRIVING  DISTRACTED  SPEED_LIMIT  \\\n",
       "0           0         3.0      0                   1           0     1.575385   \n",
       "1           1         3.0      0                   1           0     1.575385   \n",
       "2           2         3.0      0                   1           0     1.575385   \n",
       "3           3         3.0      1                   1           1     0.709924   \n",
       "4           4         3.0      1                   1           1     0.709924   \n",
       "\n",
       "   ILLUMINATION  CURVED_ROAD  \n",
       "0             1            0  \n",
       "1             1            0  \n",
       "2             1            0  \n",
       "3             1            0  \n",
       "4             1            0  "
      ]
     },
     "execution_count": 26,
     "metadata": {},
     "output_type": "execute_result"
    }
   ],
   "source": [
    "df3=pd.read_csv(\"Q3.csv\")\n",
    "df3.head()"
   ]
  },
  {
   "cell_type": "code",
   "execution_count": 27,
   "metadata": {},
   "outputs": [],
   "source": [
    "df3.drop('Unnamed: 0', axis=1, inplace=True) # drop useless column"
   ]
  },
  {
   "cell_type": "code",
   "execution_count": 4,
   "metadata": {},
   "outputs": [
    {
     "name": "stdout",
     "output_type": "stream",
     "text": [
      "<class 'pandas.core.frame.DataFrame'>\n",
      "RangeIndex: 3834863 entries, 0 to 3834862\n",
      "Data columns (total 7 columns):\n",
      " #   Column              Dtype  \n",
      "---  ------              -----  \n",
      " 0   DAMAGE_IND          float64\n",
      " 1   URBAN               int64  \n",
      " 2   AGGRESSIVE_DRIVING  int64  \n",
      " 3   DISTRACTED          int64  \n",
      " 4   SPEED_LIMIT         float64\n",
      " 5   ILLUMINATION        int64  \n",
      " 6   CURVED_ROAD         int64  \n",
      "dtypes: float64(2), int64(5)\n",
      "memory usage: 204.8 MB\n"
     ]
    }
   ],
   "source": [
    "df3.info()"
   ]
  },
  {
   "cell_type": "code",
   "execution_count": 5,
   "metadata": {},
   "outputs": [],
   "source": [
    "df3['DAMAGE_IND'] = df3['DAMAGE_IND'].astype('category') # change the data type into category"
   ]
  },
  {
   "cell_type": "code",
   "execution_count": 6,
   "metadata": {},
   "outputs": [
    {
     "data": {
      "text/plain": [
       "DAMAGE_IND            0\n",
       "URBAN                 0\n",
       "AGGRESSIVE_DRIVING    0\n",
       "DISTRACTED            0\n",
       "SPEED_LIMIT           0\n",
       "ILLUMINATION          0\n",
       "CURVED_ROAD           0\n",
       "dtype: int64"
      ]
     },
     "execution_count": 6,
     "metadata": {},
     "output_type": "execute_result"
    }
   ],
   "source": [
    "df3.isnull().sum()"
   ]
  },
  {
   "cell_type": "markdown",
   "metadata": {},
   "source": [
    "Correct data type and no missing values"
   ]
  },
  {
   "cell_type": "markdown",
   "metadata": {},
   "source": [
    "### 1. EDA\n",
    "#### 1.1  Plot a correlation heatmap"
   ]
  },
  {
   "cell_type": "code",
   "execution_count": 7,
   "metadata": {},
   "outputs": [
    {
     "data": {
      "text/plain": [
       "<AxesSubplot:>"
      ]
     },
     "execution_count": 7,
     "metadata": {},
     "output_type": "execute_result"
    },
    {
     "data": {
      "image/png": "[encoded data removed]",
      "text/plain": [
       "<Figure size 720x432 with 2 Axes>"
      ]
     },
     "metadata": {
      "needs_background": "light"
     },
     "output_type": "display_data"
    }
   ],
   "source": [
    "plt.figure(figsize=(10, 6))\n",
    "sns.heatmap(df3.corr(),cmap=\"YlGnBu\", annot=True)"
   ]
  },
  {
   "cell_type": "markdown",
   "metadata": {},
   "source": [
    "The correlation between the variables is low, with most correlation coefficients less than 0.1."
   ]
  },
  {
   "cell_type": "markdown",
   "metadata": {},
   "source": [
    "#### 1.2 Count of DAMAGE Indicator"
   ]
  },
  {
   "cell_type": "code",
   "execution_count": 8,
   "metadata": {},
   "outputs": [
    {
     "data": {
      "text/plain": [
       "Text(0.5, 1.0, 'Countpolt on Damage Indicator')"
      ]
     },
     "execution_count": 8,
     "metadata": {},
     "output_type": "execute_result"
    },
    {
     "data": {
      "image/png": "[encoded data removed]",
      "text/plain": [
       "<Figure size 432x288 with 1 Axes>"
      ]
     },
     "metadata": {
      "needs_background": "light"
     },
     "output_type": "display_data"
    }
   ],
   "source": [
    "sns.countplot(x='DAMAGE_IND',data=df3)\n",
    "plt.title('Countpolt on Damage Indicator')"
   ]
  },
  {
   "cell_type": "markdown",
   "metadata": {},
   "source": [
    "We can see that there is an imbalance between the classes, where class 3 - Disabling (severe) Damage has the most data, while class 0 - None Damage has the least data."
   ]
  },
  {
   "cell_type": "markdown",
   "metadata": {},
   "source": [
    "### 2. Feature Engineering"
   ]
  },
  {
   "cell_type": "code",
   "execution_count": 28,
   "metadata": {},
   "outputs": [
    {
     "data": {
      "text/plain": [
       "3.0    2300188\n",
       "1.0     755286\n",
       "2.0     711361\n",
       "0.0      68028\n",
       "Name: DAMAGE_IND, dtype: int64"
      ]
     },
     "execution_count": 28,
     "metadata": {},
     "output_type": "execute_result"
    }
   ],
   "source": [
    "data = df3.copy()\n",
    "class_counts = data['DAMAGE_IND'].value_counts()\n",
    "class_counts"
   ]
  },
  {
   "cell_type": "markdown",
   "metadata": {},
   "source": [
    "Since there is an imbalance between the categories and the data sample is sufficient, we choose to randomly select 10,000 data from each class"
   ]
  },
  {
   "cell_type": "code",
   "execution_count": 29,
   "metadata": {},
   "outputs": [],
   "source": [
    "num_samples_per_class = 10000\n",
    "classes = {label: data[data.DAMAGE_IND == label] for label in class_counts.index}\n",
    "\n",
    "# downsample the dataset\n",
    "downsampled_classes = {\n",
    "    label: resample(class_df,\n",
    "                    replace=True,  # Set to True for upsampling\n",
    "                    n_samples=num_samples_per_class,\n",
    "                    random_state=42)\n",
    "    for label, class_df in classes.items()\n",
    "}\n",
    "\n",
    "downsampled_data = pd.concat(downsampled_classes.values())\n",
    "\n",
    "df3 = downsampled_data.sample(frac=1, random_state=42).reset_index(drop=True)"
   ]
  },
  {
   "cell_type": "markdown",
   "metadata": {},
   "source": [
    "### 3. Training"
   ]
  },
  {
   "cell_type": "markdown",
   "metadata": {},
   "source": [
    "Split the dataset into X_train, X_test, y_train and y_test. Use a 80-20 ratio for the split and a random_state=42."
   ]
  },
  {
   "cell_type": "code",
   "execution_count": 11,
   "metadata": {},
   "outputs": [
    {
     "data": {
      "text/plain": [
       "32823    3.0\n",
       "16298    0.0\n",
       "28505    3.0\n",
       "6689     3.0\n",
       "26893    3.0\n",
       "        ... \n",
       "13618    0.0\n",
       "35165    2.0\n",
       "16359    3.0\n",
       "3842     2.0\n",
       "37682    3.0\n",
       "Name: DAMAGE_IND, Length: 8000, dtype: category\n",
       "Categories (4, float64): [0.0, 1.0, 2.0, 3.0]"
      ]
     },
     "execution_count": 11,
     "metadata": {},
     "output_type": "execute_result"
    }
   ],
   "source": [
    "# split data into X and y\n",
    "X = df3.loc[:, df3.columns != \"DAMAGE_IND\"]\n",
    "y = df3[\"DAMAGE_IND\"]\n",
    "\n",
    "X_train, X_test, y_train, y_test = train_test_split(X, y, test_size=0.2, random_state=42)\n",
    "y_test"
   ]
  },
  {
   "cell_type": "markdown",
   "metadata": {},
   "source": [
    "#### 3.1 Logistic Regression"
   ]
  },
  {
   "cell_type": "code",
   "execution_count": 12,
   "metadata": {},
   "outputs": [
    {
     "name": "stdout",
     "output_type": "stream",
     "text": [
      "Logistic Regression - Best parameters: {'C': 0.05}\n"
     ]
    }
   ],
   "source": [
    "param_grid = {'C': [0.1,0.05,0.06,0.07,0.08,0.09,0.11,0.12]}\n",
    "lr_grid = GridSearchCV(LogisticRegression(max_iter=1000), param_grid, cv=5)\n",
    "lr_grid.fit(X_train, y_train)\n",
    "print(\"Logistic Regression - Best parameters:\", lr_grid.best_params_)"
   ]
  },
  {
   "cell_type": "code",
   "execution_count": 13,
   "metadata": {},
   "outputs": [
    {
     "name": "stdout",
     "output_type": "stream",
     "text": [
      "Accuracy (LR with Grid Search): 32.81%\n",
      "              precision    recall  f1-score   support\n",
      "\n",
      "         0.0       0.38      0.44      0.41      1982\n",
      "         1.0       0.32      0.13      0.18      1967\n",
      "         2.0       0.28      0.44      0.34      2021\n",
      "         3.0       0.35      0.30      0.32      2030\n",
      "\n",
      "    accuracy                           0.33      8000\n",
      "   macro avg       0.33      0.33      0.31      8000\n",
      "weighted avg       0.33      0.33      0.31      8000\n",
      "\n"
     ]
    }
   ],
   "source": [
    "lr = LogisticRegression(C=0.05, max_iter=1000)\n",
    "lr.fit(X_train, y_train)\n",
    "\n",
    "y_pred_lr = lr.predict(X_test)\n",
    "\n",
    "accuracy_lr = accuracy_score(y_test, y_pred_lr)\n",
    "print(\"Accuracy (LR with Grid Search): {:.2f}%\".format(accuracy_lr * 100))\n",
    "print(classification_report(y_test, lr_grid.predict(X_test)))"
   ]
  },
  {
   "cell_type": "markdown",
   "metadata": {},
   "source": [
    "The model's performance seems to be relatively low, with an overall accuracy of 32.81%. Considering there are four classes (0, 1, 2, and 3), a random guess would result in a 25% accuracy, so this model does not perform significantly better than random chance."
   ]
  },
  {
   "cell_type": "code",
   "execution_count": 14,
   "metadata": {},
   "outputs": [
    {
     "name": "stdout",
     "output_type": "stream",
     "text": [
      "Feature Importances:\n",
      "URBAN: 0.0193\n",
      "AGGRESSIVE_DRIVING: 0.6097\n",
      "DISTRACTED: 0.2773\n",
      "SPEED_LIMIT: 0.2232\n",
      "ILLUMINATION: 0.0430\n",
      "CURVED_ROAD: 0.1282\n"
     ]
    }
   ],
   "source": [
    "# Get the feature importances\n",
    "importances = np.abs(lr.coef_[0])\n",
    "\n",
    "# Print the feature importances\n",
    "print('Feature Importances:')\n",
    "for feature, importance in zip(X.columns, importances):\n",
    "    print(f'{feature}: {importance:.4f}')"
   ]
  },
  {
   "cell_type": "markdown",
   "metadata": {},
   "source": [
    "In this model, URBAN and ILLUMINATION have a very low importance. AGGRESSIVE_DRIVING is the most important feature."
   ]
  },
  {
   "cell_type": "markdown",
   "metadata": {},
   "source": [
    "#### 3.2 Random Forest"
   ]
  },
  {
   "cell_type": "code",
   "execution_count": 15,
   "metadata": {},
   "outputs": [
    {
     "name": "stdout",
     "output_type": "stream",
     "text": [
      "Random Forest - Best parameters: {'max_depth': 10, 'n_estimators': 200}\n"
     ]
    }
   ],
   "source": [
    "param_grid = {'n_estimators': [50, 100, 200], 'max_depth': [None, 10, 20]}\n",
    "rf_grid = GridSearchCV(RandomForestClassifier(), param_grid, cv=5)\n",
    "rf_grid.fit(X_train, y_train)\n",
    "print(\"Random Forest - Best parameters:\", rf_grid.best_params_)"
   ]
  },
  {
   "cell_type": "code",
   "execution_count": 30,
   "metadata": {},
   "outputs": [
    {
     "name": "stdout",
     "output_type": "stream",
     "text": [
      "Accuracy (RF with Grid Search): 32.71%\n",
      "              precision    recall  f1-score   support\n",
      "\n",
      "         0.0       0.41      0.41      0.41      1982\n",
      "         1.0       0.28      0.26      0.27      1967\n",
      "         2.0       0.28      0.33      0.30      2021\n",
      "         3.0       0.34      0.30      0.32      2030\n",
      "\n",
      "    accuracy                           0.33      8000\n",
      "   macro avg       0.33      0.33      0.33      8000\n",
      "weighted avg       0.33      0.33      0.33      8000\n",
      "\n"
     ]
    }
   ],
   "source": [
    "# Define the random forest classifier, and use best grid search parameters\n",
    "rf = RandomForestClassifier(max_depth = 10, n_estimators= 200)\n",
    "rf.fit(X_train, y_train)\n",
    "y_pred = rf.predict(X_test)\n",
    "y_pred_proba = rf.predict_proba(X_test)\n",
    "\n",
    "accuracy_rf = accuracy_score(y_test, y_pred)\n",
    "print(\"Accuracy (RF with Grid Search): {:.2f}%\".format(accuracy_rf * 100))\n",
    "print(classification_report(y_test, y_pred))"
   ]
  },
  {
   "cell_type": "code",
   "execution_count": 17,
   "metadata": {},
   "outputs": [
    {
     "name": "stdout",
     "output_type": "stream",
     "text": [
      "Feature importances:\n",
      "1. SPEED_LIMIT: 0.4087\n",
      "2. AGGRESSIVE_DRIVING: 0.2220\n",
      "3. ILLUMINATION: 0.1834\n",
      "4. DISTRACTED: 0.0668\n",
      "5. URBAN: 0.0607\n",
      "6. CURVED_ROAD: 0.0584\n"
     ]
    }
   ],
   "source": [
    "# Get feature importance\n",
    "importances = rf.feature_importances_\n",
    "indices = np.argsort(importances)[::-1]\n",
    "feature_names = X_train.columns\n",
    "\n",
    "print(\"Feature importances:\")\n",
    "for i in range(X_train.shape[1]):\n",
    "    print(f\"{i+1}. {feature_names[indices[i]]}: {importances[indices[i]]:.4f}\")"
   ]
  },
  {
   "cell_type": "markdown",
   "metadata": {},
   "source": [
    "In the Random Forest model, URBAN, CURVED_ROAD and ILLUMINATION have a very low importance. SPEED_LIMIT is the most important feature."
   ]
  },
  {
   "cell_type": "markdown",
   "metadata": {},
   "source": [
    "#### 3.3 Gaussian Naive Bayes"
   ]
  },
  {
   "cell_type": "code",
   "execution_count": 18,
   "metadata": {},
   "outputs": [
    {
     "name": "stdout",
     "output_type": "stream",
     "text": [
      "Accuracy (Gaussian Naive Bayes): 32.35%\n",
      "\n",
      "Classification Report (Gaussian Naive Bayes):\n",
      "              precision    recall  f1-score   support\n",
      "\n",
      "         0.0       0.39      0.38      0.39      1982\n",
      "         1.0       0.33      0.17      0.22      1967\n",
      "         2.0       0.28      0.51      0.36      2021\n",
      "         3.0       0.35      0.23      0.28      2030\n",
      "\n",
      "    accuracy                           0.32      8000\n",
      "   macro avg       0.34      0.32      0.31      8000\n",
      "weighted avg       0.34      0.32      0.31      8000\n",
      "\n",
      "\n",
      "Confusion Matrix (Gaussian Naive Bayes):\n",
      "[[ 759  234  735  254]\n",
      " [ 425  336  908  298]\n",
      " [ 403  262 1025  331]\n",
      " [ 341  200 1021  468]]\n"
     ]
    }
   ],
   "source": [
    "gnb_classifier = GaussianNB()\n",
    "gnb_classifier.fit(X_train, y_train)\n",
    "y_pred_gnb = gnb_classifier.predict(X_test)\n",
    "\n",
    "# Calculate the accuracy\n",
    "accuracy_gnb = accuracy_score(y_test, y_pred_gnb)\n",
    "print(\"Accuracy (Gaussian Naive Bayes): {:.2f}%\".format(accuracy_gnb * 100))\n",
    "\n",
    "# Print the classification report\n",
    "print(\"\\nClassification Report (Gaussian Naive Bayes):\")\n",
    "print(classification_report(y_test, y_pred_gnb))\n",
    "\n",
    "# Print the confusion matrix\n",
    "print(\"\\nConfusion Matrix (Gaussian Naive Bayes):\")\n",
    "print(confusion_matrix(y_test, y_pred_gnb))"
   ]
  },
  {
   "cell_type": "markdown",
   "metadata": {},
   "source": [
    "The Gaussian Naive Bayes model's performance is also relatively low, with an overall accuracy of 32.35%. All classes have low f1-scores, indicating that the model has difficulty accurately classifying instances of each class while minimizing false positives and false negatives."
   ]
  },
  {
   "cell_type": "markdown",
   "metadata": {},
   "source": [
    "#### 3.4 SVM"
   ]
  },
  {
   "cell_type": "code",
   "execution_count": 19,
   "metadata": {},
   "outputs": [
    {
     "name": "stdout",
     "output_type": "stream",
     "text": [
      "SVM - Best parameters: {'C': 1, 'kernel': 'rbf'}\n",
      "              precision    recall  f1-score   support\n",
      "\n",
      "         0.0       0.40      0.43      0.41      1982\n",
      "         1.0       0.29      0.27      0.28      1967\n",
      "         2.0       0.28      0.28      0.28      2021\n",
      "         3.0       0.35      0.34      0.34      2030\n",
      "\n",
      "    accuracy                           0.33      8000\n",
      "   macro avg       0.33      0.33      0.33      8000\n",
      "weighted avg       0.33      0.33      0.33      8000\n",
      "\n"
     ]
    }
   ],
   "source": [
    "param_grid = {'C': [0.1,1], 'kernel': [ 'rbf']}\n",
    "# Define SVM model and cross-validation\n",
    "svm_grid = GridSearchCV(SVC(), param_grid, cv=2)\n",
    "svm_grid.fit(X_train, y_train)\n",
    "print(\"SVM - Best parameters:\", svm_grid.best_params_)\n",
    "print(classification_report(y_test, svm_grid.predict(X_test)))"
   ]
  },
  {
   "cell_type": "markdown",
   "metadata": {},
   "source": [
    "The SVM model's performance is not satisfactory and is similar to the previous models"
   ]
  },
  {
   "cell_type": "code",
   "execution_count": 20,
   "metadata": {},
   "outputs": [],
   "source": [
    "y_pred_svm = svm_grid.predict(X_test)"
   ]
  },
  {
   "cell_type": "markdown",
   "metadata": {},
   "source": [
    "### 4. Visualization of Model Performance"
   ]
  },
  {
   "cell_type": "code",
   "execution_count": 23,
   "metadata": {},
   "outputs": [],
   "source": [
    "# Collect the evaluation metrics for each classifier\n",
    "metrics = {\n",
    "    'SVM': {\n",
    "        'accuracy': accuracy_score(y_test, y_pred_svm),\n",
    "        'precision': precision_score(y_test, y_pred_svm, average='weighted'),\n",
    "        'recall': recall_score(y_test, y_pred_svm, average='weighted'),\n",
    "        'f1': f1_score(y_test, y_pred_svm, average='weighted'),\n",
    "    },\n",
    "    'GNB': {\n",
    "        'accuracy': accuracy_score(y_test, y_pred_gnb),\n",
    "        'precision': precision_score(y_test, y_pred_gnb, average='weighted'),\n",
    "        'recall': recall_score(y_test, y_pred_gnb, average='weighted'),\n",
    "        'f1': f1_score(y_test, y_pred_gnb, average='weighted'),\n",
    "    },\n",
    "    'RF': {\n",
    "        'accuracy': accuracy_score(y_test, y_pred),\n",
    "        'precision': precision_score(y_test, y_pred, average='weighted'),\n",
    "        'recall': recall_score(y_test, y_pred, average='weighted'),\n",
    "        'f1': f1_score(y_test, y_pred, average='weighted'),\n",
    "    },\n",
    "    'LR': {\n",
    "        'accuracy': accuracy_score(y_test, y_pred_lr),\n",
    "        'precision': precision_score(y_test, y_pred_lr, average='weighted'),\n",
    "        'recall': recall_score(y_test, y_pred_lr, average='weighted'),\n",
    "        'f1': f1_score(y_test, y_pred_lr, average='weighted'),\n",
    "    },\n",
    "}"
   ]
  },
  {
   "cell_type": "code",
   "execution_count": 24,
   "metadata": {},
   "outputs": [
    {
     "data": {
      "image/png": "[encoded data removed]",
      "text/plain": [
       "<Figure size 1152x648 with 1 Axes>"
      ]
     },
     "metadata": {
      "needs_background": "light"
     },
     "output_type": "display_data"
    }
   ],
   "source": [
    "labels = ['Accuracy', 'Precision', 'Recall', 'F1']\n",
    "classifiers = ['SVM', 'GNB', 'RF', 'LR']\n",
    "\n",
    "# Generate data array, rows correspond to labels, columns correspond to classifiers\n",
    "data = np.array([\n",
    "    [metrics[classifier]['accuracy'] for classifier in classifiers],\n",
    "    [metrics[classifier]['precision'] for classifier in classifiers],\n",
    "    [metrics[classifier]['recall'] for classifier in classifiers],\n",
    "    [metrics[classifier]['f1'] for classifier in classifiers],\n",
    "])\n",
    "\n",
    "x = np.arange(len(labels))\n",
    "width = 0.2  \n",
    "\n",
    "# For each classifier, plot the bar chart\n",
    "fig, ax = plt.subplots(figsize = (16,9)) \n",
    "for i, classifier in enumerate(classifiers):\n",
    "    ax.bar(x + i * width, data[:, i], width, label=classifier)\n",
    "\n",
    "# Add labels\n",
    "ax.set_ylabel('Scores')\n",
    "ax.set_title('Evaluation Metrics for Different Classifiers')\n",
    "ax.set_xticks(x + width * (len(classifiers) - 1) / 2)\n",
    "ax.set_xticklabels(labels)\n",
    "ax.legend()\n",
    "\n",
    "plt.show()"
   ]
  },
  {
   "cell_type": "markdown",
   "metadata": {},
   "source": [
    "### Conclusions and Discussions"
   ]
  },
  {
   "cell_type": "markdown",
   "metadata": {},
   "source": [
    "All models have relatively low accuracy (32-33%), which is not significantly better than random chance for a four-class problem. It is challenging to classify the severity of vehicle damage in crashes based on factors like speed limits, location, and lighting conditions. This may be because the features we choose are not significant enough. Additionally, the feature importances are very different between different models, for example, in Logistic Regression model, AGGRESSIVE_DRIVING is the most important feature, while in Random Forest model, SPEED_LIMIT is the most important feature.\n",
    "As a result, we cannotidentify which environmental factors have the most significant contribution to the result using the current 4 models."
   ]
  },
  {
   "cell_type": "markdown",
   "metadata": {},
   "source": [
    "### Future Work"
   ]
  },
  {
   "cell_type": "markdown",
   "metadata": {},
   "source": [
    "For future work, we may try to collect new features which can better capture the infomation in the data. Moreover, we can also try to used larger datasets and other deep learning algorithms to improve the model performances."
   ]
  },
  {
   "cell_type": "markdown",
   "metadata": {},
   "source": [
    "### References\n",
    "\n",
    "* https://scikit-learn.org/stable/modules/generated/sklearn.svm.SVC.html\n",
    "* https://matplotlib.org/stable/gallery/lines_bars_and_markers/barchart.html\n",
    "* https://scikit-learn.org/stable/auto_examples/ensemble/plot_forest_importances.html\n",
    "* Answers to Lab 5\n",
    "* Answers to Lab 6"
   ]
  },
  {
   "cell_type": "code",
   "execution_count": null,
   "metadata": {},
   "outputs": [],
   "source": []
  }
 ],
 "metadata": {
  "kernelspec": {
   "display_name": "Python 3",
   "language": "python",
   "name": "python3"
  },
  "language_info": {
   "codemirror_mode": {
    "name": "ipython",
    "version": 3
   },
   "file_extension": ".py",
   "mimetype": "text/x-python",
   "name": "python",
   "nbconvert_exporter": "python",
   "pygments_lexer": "ipython3",
   "version": "3.8.5"
  }
 },
 "nbformat": 4,
 "nbformat_minor": 5
}
